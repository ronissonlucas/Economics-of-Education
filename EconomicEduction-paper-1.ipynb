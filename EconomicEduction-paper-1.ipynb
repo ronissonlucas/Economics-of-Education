{
 "cells": [
  {
   "cell_type": "markdown",
   "metadata": {},
   "source": [
    "## **The Basic Theory of Human Capital**"
   ]
  },
  {
   "cell_type": "markdown",
   "metadata": {},
   "source": [
    "#### General Issues\n",
    "* One of the most important ideas in labor economics is to think of the set of marketable skills of workers as a form of capital in which workers make a variety of investments.\n",
    "* Loosely speaking, human capital corresponds to any stock of knowledge or characteristics the worker has (either innate or acquired) that contributes to his or her “productivity”.\n",
    "* This definition is broad, and this has both advantages and disadvantages.\n",
    "*  The advantages are clear: it enables us to think of not only the years of schooling, but also of a variety of other characteristics as part of human capital investments. These include school quality, training, attitudes towards work, etc.\n",
    "* Disadvantages: At some level, we can push this notion of human capital too far, and think of every difference in remuneration that we observe in the labor market as due to human capital.\n",
    "* But, we have an important element that needs to be accounted into our models: unobserved heterogeneity.\n",
    "* The assumption that all pay differences are related to skills is a good point to start a conceptual structure on empirical modeling. Nevertheless,  we have many notable exceptions that we will discuss here in this presentation. \n",
    "    * Labor market imperfections \n",
    "    * Taste-based discrimination (gender;race gap)"
   ]
  },
  {
   "cell_type": "markdown",
   "metadata": {},
   "source": [
    "####  Sources of Human Capital Differences\n",
    "* Innate ability \n",
    "    * workers can have different amounts of skills/human capital because of innate differences\n",
    "* Schooling\n",
    "* School quality and non-schooling investments\n",
    "    * easily observable component of human capital investments\n",
    "* Training\n",
    "* Pre-labor market influences"
   ]
  },
  {
   "cell_type": "markdown",
   "metadata": {},
   "source": [
    "#### Human Capital Investments\n",
    "\n",
    "* Separation theorem will show that, with perfect capital markets, schooling decisions will maximize the net present discounted value of the individual.\n",
    "* Consider an individual with an utility function described by $u(c)$ that satisfies the standard neoclassical assumptions.\n",
    "* Planning horizon of T ($T = \\infty$ is allowed), discounts the future at the rate $\\rho >0$ and faces a constant flow rate of death equal to $v \\ge 0$. \n",
    "\n",
    "So, we can define the objective function of this individal at time $t = 0$ is:\n",
    "\n",
    "$$ \\max \\int_{0}^{T}\\exp{(-(p+v)t)u(c(t))}dt $$\n",
    "\n",
    "* This individual is born with some human capital $h(0) \\ ge 0$ and suppose that this human capital evolves over time according to the differential equation below:\n",
    "$$\\dot{h(t)} = G(t, h(t), s(t))$$\n",
    "Where:\n",
    "* $s(t) \\in [0,1]$ is the fraction of time that the individual spends for investments in schooling;\n",
    "* $G$ determines how human capital evolves as a function of time, the individual's stock of human capital and schooling decisions.\n",
    "\n",
    "* The individual is assumed to face an exogenous sequence of wage per unit of human capital given by:\n",
    "$$W(t) = w(t)[1-s(t)][h(t)+w(t)]$$\n",
    "Where:\n",
    "* $1-s(t)$ is the fraction of time spent supplying labor to the market;\n",
    "* $w(t)$ is non-human capital labor that the individual may be supplying to the market at time $t$;\n",
    "* The sequence of non-human capital labor that the individual can supply to the market, $[w(t)]_{t=0}^{T}$ is exogenous.\n",
    "\n",
    "This formulation assumes that the only margin of choice is between market work and schooling (i.e., there is no leisure). The individual faces a constant interest rate equal to $r$ on his savings.\n",
    "\n",
    "The lifetime budget constraint of the individual can be written as:\n",
    "\n",
    "$$\\int_{0}^{T}\\exp(-rt)c(t)dt \\le \\int_{0}^{T}\\exp(-rt)w(t)[1-s(t)][h(t)+w(t)]dt$$\n",
    "\n",
    "\n",
    "* In the presence of perfect capital markets, the best human capital accumulation decisions are those that maximize the lifetime budget set of the individual. This theorem also fails to hold when leisure is an argument of the utility function of the individual or when there are imperfect capital markets."
   ]
  },
  {
   "cell_type": "markdown",
   "metadata": {},
   "source": [
    "#### Schooling Investments and Returns to Education\n",
    "\n",
    "The model presented here is a version of Mincer’s (1974) seminal contribution.\n",
    "\n",
    "* $T = \\infty$\n",
    "* $v > 0$ is the flow rate of death (individuals have finite expected lives)\n",
    "* At the end of the schooling interval the individual will have a schooling level of $h(S) = \\eta(S)$\n",
    "* Human capital accumulates over time: $\\dot{h}(t) = g_{h}h(t)$, $g_h \\ge 0$\n",
    "* Wages grow exponentially: $\\hat{w}(t) = g_w w(t)$\n",
    "* $g_w+g_h < r+v$\n",
    "\n",
    "The optimal schooling decision must be a solution to the following maximization problem:\n",
    "$$\\max_{S} \\int_{S}^{\\infty} \\exp{(-(r+v)t)w(t)h(t)}dt $$\n",
    "\n",
    "First-order condition implies that:\n",
    "\n",
    "$$\\dfrac{\\eta'(S*)}{\\eta(S*)} = r+v-g_w $$\n",
    "\n",
    "This equation shows that higher interest rates and higher values of $v$ (corresponding to shorter planning horizons) reduce human capital investments, while higher values of $g_w$ increase the value of human capital and thus encourage further investments.\n",
    "\n",
    "Finally, making some transforms in the first-order condition we can get the canonical Mincer equation where log wage earnings are proportional to schooling and experience.\n",
    "\n",
    "\n",
    "$$\\ln W_j  = \\text{constant}+\\gamma_S S_j+\\gamma_e \\text{experience}$$\n",
    "\n",
    "Where $j$ refers to individual $j$. \n",
    "\n",
    "We have not introduced any source of heterogeneity that can generate different levels of schooling across individuals. Nevertheless, the equation above is important, since it is the typical empirical model for the relationship between wages and schooling estimated in labor economics.\n",
    "\n",
    "* The opportunity cost of one more year ofschooling is foregone earnings."
   ]
  },
  {
   "cell_type": "markdown",
   "metadata": {},
   "source": [
    "#### A Simple Two-Period Model of Schooling Investments and Some Evidence\n",
    "\n",
    "\n",
    "In period 1 an individual (parent) works, consumes $c$, saves $s$, decides whether to send their oﬀspring to school, $e = 0$ or 1, and then dies at the end of the period. Utility of household $i$:\n",
    "\n",
    "$$\\ln{c_i}+\\ln{\\hat{c}_i} $$\n",
    "\n",
    "$\\hat{c}$ is the consumption of the offspring. The cost of education $\\theta_i$ varies with $i$.\n",
    "\n",
    "Second period:\n",
    "Skilled individuals (those with education) receive a wage $w_s$ and an unskilled worker receives $w_u$.\n",
    "\n",
    "The decision problem of the parent with income $y_i$ is to maximize the equation above with respect to $e_i$ , $c_i$ and $\\hat{c}_i$, subject to the budget constraint:\n",
    "\n",
    "\n",
    "$$c_i+\\dfrac{\\hat{c}_i}{1+r} \\leq \\dfrac{w_u}{1+r}+e_i\\dfrac{w_s-w_u}{1+r}+y_i-e_i\\theta_i $$\n",
    "\n",
    "Parents will choose to educate their offspring only if:\n",
    "\n",
    "$$\\theta_i \\leq \\dfrac{w_s-w_u}{1+r}$$\n",
    "\n",
    "A greater skill premium as captured by $w_s − w_u$ will encourage schooling, while the higher interest rate, $r$, will discourage schooling (since schooling is a form of investment with upfront costs -or initial costs -  and delayed benefits).\n",
    "\n",
    "\n",
    "Suppose that parents cannot have negative savings and the constraint set. In this case we will have another expression that capture the decision :\n",
    "\n",
    "$$\\theta_i \\leq y_i \\dfrac{w_s-w_u}{w_s}$$"
   ]
  },
  {
   "cell_type": "markdown",
   "metadata": {},
   "source": [
    "#### Evidence on Human Capital Investments and Credit Constraints\n",
    "\n",
    "This finding, that income only matters for education investments in the presence of credit constraints, motivates investigations of whether there are significant diﬀerences in the educational attainment of children from diﬀerent parental backgrounds as a test of the importance of credit constraints on education decisions.\n",
    "\n",
    "$$\\text{schooling} = \\text{controls}+\\alpha \\log{\\text{parental income}}$$\n",
    "\n",
    "$\\alpha>0$\n",
    "\n",
    "Children’s education may also be a consumption good, so rich parents will “consume” more of this good as well as other goods.\n",
    "\n",
    "\n",
    "$$\\log \\text{child income} = \\text{controls}+\\alpha\\log \\text{parental income}$$\n",
    "\n",
    "* Becker and Tomes: if your parents are twice as rich as my parents, you will typically have about 30 to 40 percent higher income than me.\n"
   ]
  },
  {
   "cell_type": "markdown",
   "metadata": {},
   "source": [
    "#### Ben-Porath model\n",
    "\n",
    "* The baseline Ben-Porath model enriches the models we have seen so far by allowing human capital investments and non-trivial labor supply decisions throughout the lifetime of the individual. \n",
    "* Includes also depreciation of human capital.\n",
    "* It emphasizes that schooling is not the only way in which individuals can invest in human capital.\n",
    "* It suggests that in societies where schooling investments are high we may also expect higher levels of on-the-job investments in human capital."
   ]
  }
 ],
 "metadata": {
  "kernelspec": {
   "display_name": "Python 3",
   "language": "python",
   "name": "python3"
  },
  "language_info": {
   "codemirror_mode": {
    "name": "ipython",
    "version": 3
   },
   "file_extension": ".py",
   "mimetype": "text/x-python",
   "name": "python",
   "nbconvert_exporter": "python",
   "pygments_lexer": "ipython3",
   "version": "3.8.10"
  }
 },
 "nbformat": 4,
 "nbformat_minor": 4
}
